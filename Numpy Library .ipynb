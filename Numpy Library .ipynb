{
 "cells": [
  {
   "cell_type": "code",
   "execution_count": 1,
   "id": "55d75893",
   "metadata": {},
   "outputs": [],
   "source": [
    "import numpy as np"
   ]
  },
  {
   "cell_type": "code",
   "execution_count": 2,
   "id": "6ee4d67e",
   "metadata": {},
   "outputs": [
    {
     "name": "stdout",
     "output_type": "stream",
     "text": [
      "int32\n"
     ]
    }
   ],
   "source": [
    "import numpy as np\n",
    "\n",
    "arr = np.array([1, 2, 3, 4])\n",
    "\n",
    "print(arr.dtype)"
   ]
  },
  {
   "cell_type": "code",
   "execution_count": 3,
   "id": "b0ef1394",
   "metadata": {},
   "outputs": [
    {
     "name": "stdout",
     "output_type": "stream",
     "text": [
      "[1 2 3 4 5]\n"
     ]
    }
   ],
   "source": [
    "import numpy as np\n",
    "\n",
    "arr = np.array((1, 2, 3, 4, 5))\n",
    "\n",
    "print(arr)"
   ]
  },
  {
   "cell_type": "markdown",
   "id": "2edcc1ca",
   "metadata": {},
   "source": [
    "# 0-D Arrays"
   ]
  },
  {
   "cell_type": "code",
   "execution_count": 4,
   "id": "b8b85fae",
   "metadata": {},
   "outputs": [
    {
     "name": "stdout",
     "output_type": "stream",
     "text": [
      "42\n"
     ]
    }
   ],
   "source": [
    "import numpy as np\n",
    "\n",
    "arr = np.array(42)\n",
    "\n",
    "print(arr)"
   ]
  },
  {
   "cell_type": "markdown",
   "id": "b69e7e29",
   "metadata": {},
   "source": [
    "# 1-D Arrays"
   ]
  },
  {
   "cell_type": "code",
   "execution_count": 5,
   "id": "4e03ed70",
   "metadata": {},
   "outputs": [
    {
     "name": "stdout",
     "output_type": "stream",
     "text": [
      "[1 2 3 4 5]\n"
     ]
    }
   ],
   "source": [
    "import numpy as np\n",
    "\n",
    "arr = np.array([1, 2, 3, 4, 5])\n",
    "\n",
    "print(arr)"
   ]
  },
  {
   "cell_type": "markdown",
   "id": "47ffe9d5",
   "metadata": {},
   "source": [
    "# 2-D Arrays"
   ]
  },
  {
   "cell_type": "code",
   "execution_count": 6,
   "id": "98c2956c",
   "metadata": {},
   "outputs": [
    {
     "name": "stdout",
     "output_type": "stream",
     "text": [
      "[[1 2 3]\n",
      " [4 5 6]]\n"
     ]
    }
   ],
   "source": [
    "import numpy as np\n",
    "\n",
    "arr = np.array([[1, 2, 3], [4, 5, 6]])\n",
    "\n",
    "print(arr)"
   ]
  },
  {
   "cell_type": "markdown",
   "id": "d696950e",
   "metadata": {},
   "source": [
    "# 3-D Arrays"
   ]
  },
  {
   "cell_type": "code",
   "execution_count": 8,
   "id": "2fc8dce5",
   "metadata": {},
   "outputs": [
    {
     "name": "stdout",
     "output_type": "stream",
     "text": [
      "[[[1 2 3]\n",
      "  [4 5 6]]\n",
      "\n",
      " [[1 2 3]\n",
      "  [4 5 6]]]\n"
     ]
    }
   ],
   "source": [
    "import numpy as np\n",
    "\n",
    "arr = np.array([[[1, 2, 3], [4, 5, 6]], [[1, 2, 3], [4, 5, 6]]])\n",
    "\n",
    "print(arr)"
   ]
  },
  {
   "cell_type": "markdown",
   "id": "3689ac62",
   "metadata": {},
   "source": [
    "# Check Number of Dimensions"
   ]
  },
  {
   "cell_type": "code",
   "execution_count": 9,
   "id": "42d83e1d",
   "metadata": {},
   "outputs": [
    {
     "name": "stdout",
     "output_type": "stream",
     "text": [
      "0\n",
      "1\n",
      "2\n",
      "3\n"
     ]
    }
   ],
   "source": [
    "import numpy as np\n",
    "\n",
    "a = np.array(42)\n",
    "b = np.array([1, 2, 3, 4, 5])\n",
    "c = np.array([[1, 2, 3], [4, 5, 6]])\n",
    "d = np.array([[[1, 2, 3], [4, 5, 6]], [[1, 2, 3], [4, 5, 6]]])\n",
    "\n",
    "print(a.ndim)\n",
    "print(b.ndim)\n",
    "print(c.ndim)\n",
    "print(d.ndim)"
   ]
  },
  {
   "cell_type": "code",
   "execution_count": 10,
   "id": "b25ad464",
   "metadata": {},
   "outputs": [],
   "source": [
    "import numpy as np \n",
    "a = np.array([1,2,3,4,5]) \n",
    "np.save('outfile',a)"
   ]
  },
  {
   "cell_type": "code",
   "execution_count": 11,
   "id": "8049901c",
   "metadata": {},
   "outputs": [
    {
     "name": "stdout",
     "output_type": "stream",
     "text": [
      "[1 2 3 4 5]\n"
     ]
    }
   ],
   "source": [
    "import numpy as np \n",
    "b = np.load('outfile.npy') \n",
    "print(b)"
   ]
  },
  {
   "cell_type": "code",
   "execution_count": 12,
   "id": "82ffd1a2",
   "metadata": {},
   "outputs": [
    {
     "name": "stdout",
     "output_type": "stream",
     "text": [
      "[1. 2. 3. 4. 5.]\n"
     ]
    }
   ],
   "source": [
    "import numpy as np \n",
    "\n",
    "a = np.array([1,2,3,4,5]) \n",
    "np.savetxt('out.txt',a) \n",
    "b = np.loadtxt('out.txt') \n",
    "print(b) "
   ]
  },
  {
   "cell_type": "markdown",
   "id": "1524c318",
   "metadata": {},
   "source": [
    "# Indexing Using Index Arrays"
   ]
  },
  {
   "cell_type": "code",
   "execution_count": 14,
   "id": "15fc5c03",
   "metadata": {},
   "outputs": [
    {
     "name": "stdout",
     "output_type": "stream",
     "text": [
      "Elements of array:  [1 3 5 7 9]\n",
      "Indexed Elements of array arr:  [9 1 5 9 7]\n"
     ]
    }
   ],
   "source": [
    "import numpy as np\n",
    "arr=np.arange(1,10,2) \n",
    "print(\"Elements of array: \",arr)\n",
    "arr1=arr[np.array([4,0,2,-1,-2])]\n",
    "print(\"Indexed Elements of array arr: \",arr1)"
   ]
  },
  {
   "cell_type": "markdown",
   "id": "7d02bae9",
   "metadata": {},
   "source": [
    "# Indexing in 1 dimension"
   ]
  },
  {
   "cell_type": "code",
   "execution_count": 15,
   "id": "812e3b4b",
   "metadata": {},
   "outputs": [
    {
     "name": "stdout",
     "output_type": "stream",
     "text": [
      "Array arr11: [0 1 2 3]\n",
      "Element at index 0 of arri is:  0\n",
      "Element at index 1 of arr1 is:  1\n"
     ]
    }
   ],
   "source": [
    "import numpy as np \n",
    "arr1=np.arange(4)\n",
    "print(\"Array arr11:\",arr1)\n",
    "print(\"Element at index 0 of arri is: \", arr1[0])\n",
    "print(\"Element at index 1 of arr1 is: \", arr1[1])"
   ]
  },
  {
   "cell_type": "markdown",
   "id": "39a7d8b2",
   "metadata": {},
   "source": [
    "# Indexing in 2 Dimensions"
   ]
  },
  {
   "cell_type": "code",
   "execution_count": 16,
   "id": "ade714c4",
   "metadata": {},
   "outputs": [
    {
     "name": "stdout",
     "output_type": "stream",
     "text": [
      "Array arr1:\n",
      " [[ 0  1  2  3]\n",
      " [ 4  5  6  7]\n",
      " [ 8  9 10 11]]\n",
      "Element at eth row and eth column of arr1 is: 0\n",
      "Element at 1st row and 2nd column of arr1 is: 6\n"
     ]
    }
   ],
   "source": [
    "import numpy as np\n",
    "arr=np.arange(12)\n",
    "arr1=arr.reshape(3,4)\n",
    "print(\"Array arr1:\\n\",arr1)\n",
    "print(\"Element at eth row and eth column of arr1 is:\",arr1[0,0]) \n",
    "print(\"Element at 1st row and 2nd column of arr1 is:\", arr1[1,2])"
   ]
  },
  {
   "cell_type": "markdown",
   "id": "ba81691d",
   "metadata": {},
   "source": [
    "# Indexing in 3 Dimensions"
   ]
  },
  {
   "cell_type": "code",
   "execution_count": 17,
   "id": "68dbfcd1",
   "metadata": {},
   "outputs": [
    {
     "name": "stdout",
     "output_type": "stream",
     "text": [
      "Array arr1:\n",
      " [[[ 0  1  2]\n",
      "  [ 3  4  5]]\n",
      "\n",
      " [[ 6  7  8]\n",
      "  [ 9 10 11]]]\n",
      "Element: 8\n"
     ]
    }
   ],
   "source": [
    "import numpy as np \n",
    "arr=np.arange(12) \n",
    "arr1=arr.reshape(2,2,3) \n",
    "print(\"Array arr1:\\n\", arr1) \n",
    "print(\"Element:\", arr1[1,0,2])"
   ]
  },
  {
   "cell_type": "markdown",
   "id": "e427024b",
   "metadata": {},
   "source": [
    "# Slicing 1D NumPy Arrays"
   ]
  },
  {
   "cell_type": "code",
   "execution_count": 18,
   "id": "92e77afb",
   "metadata": {},
   "outputs": [
    {
     "name": "stdout",
     "output_type": "stream",
     "text": [
      "array arr: [0 1 2 3 4 5]\n",
      "sliced element of array:  [1 2 3 4]\n"
     ]
    }
   ],
   "source": [
    "import numpy as np \n",
    "arr = np.arange(6) \n",
    "print(\"array arr:\",arr)\n",
    "print(\"sliced element of array: \", arr[1:5])"
   ]
  },
  {
   "cell_type": "markdown",
   "id": "b1ba9f74",
   "metadata": {},
   "source": [
    "# Slicing 2D Numpy Array"
   ]
  },
  {
   "cell_type": "code",
   "execution_count": 19,
   "id": "135910c2",
   "metadata": {},
   "outputs": [
    {
     "name": "stdout",
     "output_type": "stream",
     "text": [
      "Array arr1: \n",
      " [[ 0  1  2  3]\n",
      " [ 4  5  6  7]\n",
      " [ 8  9 10 11]]\n",
      "\n",
      "\n",
      "elements of 1st row and 1st column upto last column \n",
      " [[ 5  6  7]\n",
      " [ 9 10 11]]\n"
     ]
    }
   ],
   "source": [
    "import numpy as np\n",
    "arr=np.arange(12)\n",
    "arr1=arr.reshape(3,4)\n",
    "print(\"Array arr1: \\n\",arr1)\n",
    "print(\"\\n\")\n",
    "print(\"elements of 1st row and 1st column upto last column \\n\", arr1[1:,1:4])"
   ]
  },
  {
   "cell_type": "markdown",
   "id": "73b224b0",
   "metadata": {},
   "source": [
    "# Broadcasting"
   ]
  },
  {
   "cell_type": "code",
   "execution_count": 20,
   "id": "202ed62c",
   "metadata": {},
   "outputs": [
    {
     "name": "stdout",
     "output_type": "stream",
     "text": [
      "First array:\n",
      "[[ 0.  0.  0.]\n",
      " [10. 10. 10.]\n",
      " [20. 20. 20.]\n",
      " [30. 30. 30.]]\n",
      "\n",
      "\n",
      "Second array:\n",
      "[1. 2. 3.]\n",
      "\n",
      "\n",
      "First Array + Second Array\n",
      "[[ 1.  2.  3.]\n",
      " [11. 12. 13.]\n",
      " [21. 22. 23.]\n",
      " [31. 32. 33.]]\n"
     ]
    }
   ],
   "source": [
    "import numpy as np \n",
    "a = np.array([[0.0,0.0,0.0],[10.0,10.0,10.0],[20.0,20.0,20.0],[30.0,30.0,30.0]]) \n",
    "b = np.array([1.0,2.0,3.0])  \n",
    "   \n",
    "print('First array:') \n",
    "print(a) \n",
    "print('\\n')  \n",
    "   \n",
    "print('Second array:') \n",
    "print(b) \n",
    "print('\\n')  \n",
    "   \n",
    "print('First Array + Second Array' )\n",
    "print( a + b)"
   ]
  },
  {
   "cell_type": "markdown",
   "id": "85096fb8",
   "metadata": {},
   "source": [
    "# Structured arrays"
   ]
  },
  {
   "cell_type": "code",
   "execution_count": 21,
   "id": "d68da47d",
   "metadata": {},
   "outputs": [
    {
     "name": "stdout",
     "output_type": "stream",
     "text": [
      "[('Sana', 2, 21.) ('Mansi', 7, 29.)]\n"
     ]
    }
   ],
   "source": [
    "#Python program to demonstrate\n",
    "# Structured array\n",
    "import numpy as np\n",
    "a = np.array([('Sana', 2, 21.0), ('Mansi', 7, 29.0)], \n",
    "             dtype=[('name', (np. str_, 10)), ('age', np.int32), ('weight', np.float64)])\n",
    "print(a)"
   ]
  },
  {
   "cell_type": "markdown",
   "id": "75d11e8e",
   "metadata": {},
   "source": [
    "# Statistical Functions"
   ]
  },
  {
   "cell_type": "code",
   "execution_count": 22,
   "id": "5e0b7774",
   "metadata": {},
   "outputs": [],
   "source": [
    "import numpy as np\n",
    "arr = np.arange(0,10)"
   ]
  },
  {
   "cell_type": "code",
   "execution_count": 23,
   "id": "2347522d",
   "metadata": {},
   "outputs": [
    {
     "data": {
      "text/plain": [
       "array([ 0,  2,  4,  6,  8, 10, 12, 14, 16, 18])"
      ]
     },
     "execution_count": 23,
     "metadata": {},
     "output_type": "execute_result"
    }
   ],
   "source": [
    "arr + arr"
   ]
  },
  {
   "cell_type": "code",
   "execution_count": 24,
   "id": "d2e286fe",
   "metadata": {},
   "outputs": [
    {
     "data": {
      "text/plain": [
       "array([ 0,  1,  4,  9, 16, 25, 36, 49, 64, 81])"
      ]
     },
     "execution_count": 24,
     "metadata": {},
     "output_type": "execute_result"
    }
   ],
   "source": [
    "arr * arr"
   ]
  },
  {
   "cell_type": "code",
   "execution_count": 25,
   "id": "63ae6e1c",
   "metadata": {},
   "outputs": [
    {
     "data": {
      "text/plain": [
       "array([0, 0, 0, 0, 0, 0, 0, 0, 0, 0])"
      ]
     },
     "execution_count": 25,
     "metadata": {},
     "output_type": "execute_result"
    }
   ],
   "source": [
    "arr - arr"
   ]
  },
  {
   "cell_type": "code",
   "execution_count": 26,
   "id": "44f3a463",
   "metadata": {},
   "outputs": [
    {
     "name": "stderr",
     "output_type": "stream",
     "text": [
      "C:\\Users\\Shubham\\AppData\\Local\\Temp/ipykernel_18268/2878212635.py:3: RuntimeWarning: invalid value encountered in true_divide\n",
      "  arr/arr\n"
     ]
    },
    {
     "data": {
      "text/plain": [
       "array([nan,  1.,  1.,  1.,  1.,  1.,  1.,  1.,  1.,  1.])"
      ]
     },
     "execution_count": 26,
     "metadata": {},
     "output_type": "execute_result"
    }
   ],
   "source": [
    "# Warning on division by zero, but not an error!\n",
    "# Just replaced with nan\n",
    "arr/arr"
   ]
  },
  {
   "cell_type": "code",
   "execution_count": null,
   "id": "072a2dea",
   "metadata": {},
   "outputs": [],
   "source": []
  }
 ],
 "metadata": {
  "kernelspec": {
   "display_name": "Python 3 (ipykernel)",
   "language": "python",
   "name": "python3"
  },
  "language_info": {
   "codemirror_mode": {
    "name": "ipython",
    "version": 3
   },
   "file_extension": ".py",
   "mimetype": "text/x-python",
   "name": "python",
   "nbconvert_exporter": "python",
   "pygments_lexer": "ipython3",
   "version": "3.9.7"
  }
 },
 "nbformat": 4,
 "nbformat_minor": 5
}
